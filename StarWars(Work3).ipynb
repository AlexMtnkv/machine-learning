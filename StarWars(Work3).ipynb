{
  "nbformat": 4,
  "nbformat_minor": 0,
  "metadata": {
    "colab": {
      "name": "Untitled1.ipynb",
      "provenance": [],
      "collapsed_sections": [],
      "authorship_tag": "ABX9TyPU0YaQz/GMPuTf3dAV8Vrl",
      "include_colab_link": true
    },
    "kernelspec": {
      "name": "python3",
      "display_name": "Python 3"
    },
    "language_info": {
      "name": "python"
    },
    "accelerator": "GPU"
  },
  "cells": [
    {
      "cell_type": "markdown",
      "metadata": {
        "id": "view-in-github",
        "colab_type": "text"
      },
      "source": [
        "<a href=\"https://colab.research.google.com/github/AlexMtnkv/machine-learning/blob/main/StarWars(Work3).ipynb\" target=\"_parent\"><img src=\"https://colab.research.google.com/assets/colab-badge.svg\" alt=\"Open In Colab\"/></a>"
      ]
    },
    {
      "cell_type": "code",
      "execution_count": 6,
      "metadata": {
        "colab": {
          "base_uri": "https://localhost:8080/",
          "height": 1000
        },
        "id": "jqjsbOZag0iG",
        "outputId": "ae260c00-d95c-4365-bb5f-4d191f6dc89c"
      },
      "outputs": [
        {
          "output_type": "stream",
          "name": "stdout",
          "text": [
            "берем файлы из папки \"принцесса лея\" и даем им класс 0\n",
            "берем файлы из папки \"чубакка\" и даем им класс 1\n",
            "берем файлы из папки \"дарт вейдер\" и даем им класс 2\n",
            "берем файлы из папки \"люк скайуокер\" и даем им класс 3\n",
            "Всего батчей по batch_size: 3\n",
            "Лейбл первого элемента в первом батче: 2\n",
            "Размер картинки в первом батче: torch.Size([3, 224, 224])\n",
            "Картинка в первом батче: tensor([[[1., 1., 1.,  ..., 1., 1., 1.],\n",
            "         [1., 1., 1.,  ..., 1., 1., 1.],\n",
            "         [1., 1., 1.,  ..., 1., 1., 1.],\n",
            "         ...,\n",
            "         [1., 1., 1.,  ..., 1., 1., 1.],\n",
            "         [1., 1., 1.,  ..., 1., 1., 1.],\n",
            "         [1., 1., 1.,  ..., 1., 1., 1.]],\n",
            "\n",
            "        [[1., 1., 1.,  ..., 1., 1., 1.],\n",
            "         [1., 1., 1.,  ..., 1., 1., 1.],\n",
            "         [1., 1., 1.,  ..., 1., 1., 1.],\n",
            "         ...,\n",
            "         [1., 1., 1.,  ..., 1., 1., 1.],\n",
            "         [1., 1., 1.,  ..., 1., 1., 1.],\n",
            "         [1., 1., 1.,  ..., 1., 1., 1.]],\n",
            "\n",
            "        [[1., 1., 1.,  ..., 1., 1., 1.],\n",
            "         [1., 1., 1.,  ..., 1., 1., 1.],\n",
            "         [1., 1., 1.,  ..., 1., 1., 1.],\n",
            "         ...,\n",
            "         [1., 1., 1.,  ..., 1., 1., 1.],\n",
            "         [1., 1., 1.,  ..., 1., 1., 1.],\n",
            "         [1., 1., 1.,  ..., 1., 1., 1.]]])\n",
            "Using GPU\n"
          ]
        },
        {
          "output_type": "stream",
          "name": "stderr",
          "text": [
            "\r  0%|          | 0/25 [00:00<?, ?it/s]"
          ]
        },
        {
          "output_type": "stream",
          "name": "stdout",
          "text": [
            "epoch 0\n"
          ]
        },
        {
          "output_type": "stream",
          "name": "stderr",
          "text": [
            "\r  4%|▍         | 1/25 [00:04<01:49,  4.57s/it]"
          ]
        },
        {
          "output_type": "stream",
          "name": "stdout",
          "text": [
            "epoch 1\n"
          ]
        },
        {
          "output_type": "stream",
          "name": "stderr",
          "text": [
            "\r  8%|▊         | 2/25 [00:09<01:44,  4.54s/it]"
          ]
        },
        {
          "output_type": "stream",
          "name": "stdout",
          "text": [
            "epoch 2\n"
          ]
        },
        {
          "output_type": "stream",
          "name": "stderr",
          "text": [
            "\r 12%|█▏        | 3/25 [00:13<01:37,  4.44s/it]"
          ]
        },
        {
          "output_type": "stream",
          "name": "stdout",
          "text": [
            "epoch 3\n"
          ]
        },
        {
          "output_type": "stream",
          "name": "stderr",
          "text": [
            "\r 16%|█▌        | 4/25 [00:17<01:32,  4.41s/it]"
          ]
        },
        {
          "output_type": "stream",
          "name": "stdout",
          "text": [
            "epoch 4\n"
          ]
        },
        {
          "output_type": "stream",
          "name": "stderr",
          "text": [
            "\r 20%|██        | 5/25 [00:21<01:26,  4.33s/it]"
          ]
        },
        {
          "output_type": "stream",
          "name": "stdout",
          "text": [
            "epoch 5\n"
          ]
        },
        {
          "output_type": "stream",
          "name": "stderr",
          "text": [
            "\r 24%|██▍       | 6/25 [00:26<01:26,  4.55s/it]"
          ]
        },
        {
          "output_type": "stream",
          "name": "stdout",
          "text": [
            "epoch 6\n"
          ]
        },
        {
          "output_type": "stream",
          "name": "stderr",
          "text": [
            "\r 28%|██▊       | 7/25 [00:32<01:26,  4.80s/it]"
          ]
        },
        {
          "output_type": "stream",
          "name": "stdout",
          "text": [
            "epoch 7\n"
          ]
        },
        {
          "output_type": "stream",
          "name": "stderr",
          "text": [
            "\r 32%|███▏      | 8/25 [00:36<01:18,  4.60s/it]"
          ]
        },
        {
          "output_type": "stream",
          "name": "stdout",
          "text": [
            "epoch 8\n"
          ]
        },
        {
          "output_type": "stream",
          "name": "stderr",
          "text": [
            "\r 36%|███▌      | 9/25 [00:40<01:12,  4.51s/it]"
          ]
        },
        {
          "output_type": "stream",
          "name": "stdout",
          "text": [
            "epoch 9\n"
          ]
        },
        {
          "output_type": "stream",
          "name": "stderr",
          "text": [
            "\r 40%|████      | 10/25 [00:44<01:06,  4.41s/it]"
          ]
        },
        {
          "output_type": "stream",
          "name": "stdout",
          "text": [
            "epoch 10\n"
          ]
        },
        {
          "output_type": "stream",
          "name": "stderr",
          "text": [
            "\r 44%|████▍     | 11/25 [00:48<01:00,  4.31s/it]"
          ]
        },
        {
          "output_type": "stream",
          "name": "stdout",
          "text": [
            "epoch 11\n"
          ]
        },
        {
          "output_type": "stream",
          "name": "stderr",
          "text": [
            "\r 48%|████▊     | 12/25 [00:52<00:54,  4.20s/it]"
          ]
        },
        {
          "output_type": "stream",
          "name": "stdout",
          "text": [
            "epoch 12\n"
          ]
        },
        {
          "output_type": "stream",
          "name": "stderr",
          "text": [
            "\r 52%|█████▏    | 13/25 [00:57<00:50,  4.20s/it]"
          ]
        },
        {
          "output_type": "stream",
          "name": "stdout",
          "text": [
            "epoch 13\n"
          ]
        },
        {
          "output_type": "stream",
          "name": "stderr",
          "text": [
            "\r 56%|█████▌    | 14/25 [01:01<00:46,  4.20s/it]"
          ]
        },
        {
          "output_type": "stream",
          "name": "stdout",
          "text": [
            "epoch 14\n"
          ]
        },
        {
          "output_type": "stream",
          "name": "stderr",
          "text": [
            "\r 60%|██████    | 15/25 [01:05<00:41,  4.19s/it]"
          ]
        },
        {
          "output_type": "stream",
          "name": "stdout",
          "text": [
            "epoch 15\n"
          ]
        },
        {
          "output_type": "stream",
          "name": "stderr",
          "text": [
            "\r 64%|██████▍   | 16/25 [01:09<00:38,  4.24s/it]"
          ]
        },
        {
          "output_type": "stream",
          "name": "stdout",
          "text": [
            "epoch 16\n"
          ]
        },
        {
          "output_type": "stream",
          "name": "stderr",
          "text": [
            "\r 68%|██████▊   | 17/25 [01:13<00:33,  4.18s/it]"
          ]
        },
        {
          "output_type": "stream",
          "name": "stdout",
          "text": [
            "epoch 17\n"
          ]
        },
        {
          "output_type": "stream",
          "name": "stderr",
          "text": [
            "\r 72%|███████▏  | 18/25 [01:17<00:28,  4.12s/it]"
          ]
        },
        {
          "output_type": "stream",
          "name": "stdout",
          "text": [
            "epoch 18\n"
          ]
        },
        {
          "output_type": "stream",
          "name": "stderr",
          "text": [
            "\r 76%|███████▌  | 19/25 [01:22<00:24,  4.15s/it]"
          ]
        },
        {
          "output_type": "stream",
          "name": "stdout",
          "text": [
            "epoch 19\n"
          ]
        },
        {
          "output_type": "stream",
          "name": "stderr",
          "text": [
            "\r 80%|████████  | 20/25 [01:26<00:20,  4.13s/it]"
          ]
        },
        {
          "output_type": "stream",
          "name": "stdout",
          "text": [
            "epoch 20\n"
          ]
        },
        {
          "output_type": "stream",
          "name": "stderr",
          "text": [
            "\r 84%|████████▍ | 21/25 [01:30<00:16,  4.14s/it]"
          ]
        },
        {
          "output_type": "stream",
          "name": "stdout",
          "text": [
            "epoch 21\n"
          ]
        },
        {
          "output_type": "stream",
          "name": "stderr",
          "text": [
            "\r 88%|████████▊ | 22/25 [01:34<00:12,  4.19s/it]"
          ]
        },
        {
          "output_type": "stream",
          "name": "stdout",
          "text": [
            "epoch 22\n"
          ]
        },
        {
          "output_type": "stream",
          "name": "stderr",
          "text": [
            "\r 92%|█████████▏| 23/25 [01:38<00:08,  4.15s/it]"
          ]
        },
        {
          "output_type": "stream",
          "name": "stdout",
          "text": [
            "epoch 23\n"
          ]
        },
        {
          "output_type": "stream",
          "name": "stderr",
          "text": [
            "\r 96%|█████████▌| 24/25 [01:42<00:04,  4.16s/it]"
          ]
        },
        {
          "output_type": "stream",
          "name": "stdout",
          "text": [
            "epoch 24\n"
          ]
        },
        {
          "output_type": "stream",
          "name": "stderr",
          "text": [
            "100%|██████████| 25/25 [01:47<00:00,  4.28s/it]\n",
            "100%|██████████| 1/1 [00:01<00:00,  1.95s/it]\n"
          ]
        },
        {
          "output_type": "stream",
          "name": "stdout",
          "text": [
            "Epoch 24 test accuracy 0.3125\n"
          ]
        },
        {
          "output_type": "display_data",
          "data": {
            "text/plain": [
              "<Figure size 432x288 with 1 Axes>"
            ],
            "image/png": "[encoded data removed]"
          },
          "metadata": {
            "needs_background": "light"
          }
        }
      ],
      "source": [
        "import numpy as np\n",
        "import torch\n",
        "import os\n",
        "import cv2\n",
        "import io\n",
        "from googleapiclient.http import MediaIoBaseDownload\n",
        "from tqdm import tqdm\n",
        "from torch.utils.data import Dataset, DataLoader\n",
        "from torchvision.models import resnet34\n",
        "from google.colab import auth\n",
        "from googleapiclient.discovery import build\n",
        "from torchvision import transforms\n",
        "from sklearn.model_selection import train_test_split\n",
        "from sklearn.metrics import accuracy_score\n",
        "from matplotlib import pyplot as plt\n",
        "\n",
        "\n",
        "class StarWarsDataset(Dataset):\n",
        "    def __init__(self, filenames, labels):\n",
        "        self._filenames = filenames\n",
        "        self._labels = labels\n",
        "\n",
        "    def __len__(self):\n",
        "        return len(self._filenames)\n",
        "\n",
        "    def __getitem__(self, idx):\n",
        "        filename = self._filenames[idx]\n",
        "        label = self._labels[idx]\n",
        "        \n",
        "        img = cv2.imread(filename)[:, :, ::-1]\n",
        "\n",
        "        img = resize(add_pad(img))\n",
        "        plt.imshow(img)\n",
        "        \n",
        "        img = torch.tensor(img, dtype=torch.float).permute(2, 0, 1) / 255.\n",
        "        return img, label\n",
        "\n",
        "\n",
        "def download_data(file_id, file_name):\n",
        "    request = drive_service.files().get_media(fileId=file_id)\n",
        "    downloaded = io.BytesIO()\n",
        "    downloader = MediaIoBaseDownload(downloaded, request)\n",
        "    done = False\n",
        "    while done is False:\n",
        "        _, done = downloader.next_chunk()\n",
        "\n",
        "    downloaded.seek(0)\n",
        "    with open(file_name, \"wb\") as f:\n",
        "        f.write(downloaded.read())\n",
        "\n",
        "def add_pad(img):\n",
        "    color_pick = img[0][0]\n",
        "    sh = max(img.shape[0], img.shape[1])\n",
        "    shape = (sh, sh)\n",
        "    padded_img = color_pick * np.ones(shape + img.shape[2:3], dtype=np.uint8)\n",
        "    x_offset = int((padded_img.shape[0] - img.shape[0]) / 2)\n",
        "    y_offset = int((padded_img.shape[1] - img.shape[1]) / 2)\n",
        "\n",
        "    if img.shape[0] > img.shape[1]:\n",
        "        padded_img[x_offset:img.shape[0], y_offset:y_offset + img.shape[1]] = img\n",
        "        return padded_img\n",
        "\n",
        "    elif img.shape[0] < img.shape[1]:\n",
        "        padded_img[x_offset:x_offset + img.shape[0], y_offset:img.shape[1]] = img\n",
        "        return padded_img    \n",
        "\n",
        "    else:\n",
        "        return img\n",
        "\n",
        "def resize(img):\n",
        "    shape = (224, 224)\n",
        "    scale = min(shape[0] * 1.0 / img.shape[0], shape[1] * 1.0 / img.shape[1])\n",
        "    if scale != 1:\n",
        "        img = cv2.resize(img,\n",
        "                         dsize=None,\n",
        "                         fx=scale,\n",
        "                         fy=scale,\n",
        "                         interpolation=cv2.INTER_LINEAR)\n",
        "\n",
        "    return img\n",
        "\n",
        "def run_test_on_epoch(model, epoch, test_loader):\n",
        "    model.eval()\n",
        "    with torch.no_grad():\n",
        "      test_accuracy = []\n",
        "      test_real = []\n",
        "      for batch_x, batch_y in tqdm(test_loader):\n",
        "          outputs = model(batch_x.to('cuda')).detach().cpu().numpy()\n",
        "          test_accuracy.append(outputs)\n",
        "          test_real.append(batch_y.detach().cpu().numpy())\n",
        "      print(\"Epoch\", epoch, \"test accuracy\", accuracy_score(np.hstack(test_real), np.argmax(np.hstack(test_accuracy), axis=1)))\n",
        "    model.train()\n",
        "\n",
        "\n",
        "if __name__==\"__main__\":\n",
        "    auth.authenticate_user()\n",
        "    drive_service = build('drive', 'v3')\n",
        "\n",
        "    file_id = '139wA_Z9kustXy54ifhWWHJvARo5f7O6y'\n",
        "    file_name = 'star_wars.tar.gz'\n",
        "\n",
        "    download_data(file_id, file_name)\n",
        "    !tar xf star_wars.tar.gz\n",
        "\n",
        "    filenames = []\n",
        "    labels = []\n",
        "    for idx, class_dir in enumerate(os.listdir(\"star_wars\")):\n",
        "        print(f\"берем файлы из папки \\\"{class_dir}\\\" и даем им класс {idx}\")\n",
        "  \n",
        "        for file in os.listdir(os.path.join(\"star_wars\", class_dir)):\n",
        "            if not file.endswith(('.jpg', '.jpeg', '.png')):\n",
        "                continue\n",
        "      \n",
        "            filenames.append(os.path.join(\"star_wars\", class_dir, file))\n",
        "            labels.append(idx)\n",
        "\n",
        "    train_filenames, test_filenames, train_labels, test_labels = train_test_split(filenames,\n",
        "                                                                                  labels,\n",
        "                                                                                  train_size=0.7,\n",
        "                                                                                  test_size=0.3)\n",
        "\n",
        "    train_dataset = StarWarsDataset(train_filenames,\n",
        "                                    train_labels)\n",
        "    \n",
        "    train_dataloder = DataLoader(train_dataset,\n",
        "                                 shuffle=True, \n",
        "                                 batch_size=64, \n",
        "                                 num_workers=0,\n",
        "                                 drop_last=True)\n",
        "\n",
        "    test_dataset = StarWarsDataset(test_filenames,\n",
        "                                   test_labels)\n",
        "    \n",
        "    test_dataloder = DataLoader(test_dataset,\n",
        "                                shuffle=True,\n",
        "                                batch_size=64,\n",
        "                                num_workers=0,\n",
        "                                drop_last=True)\n",
        "\n",
        "    for batch in test_dataloder:\n",
        "        images, labels = batch  \n",
        "        print(f'Всего батчей по batch_size: {len(train_dataloder)}')\n",
        "        print(f'Лейбл первого элемента в первом батче: {labels[0]}')\n",
        "        print(f'Размер картинки в первом батче: {images[0].shape}')\n",
        "        print(f'Картинка в первом батче: {images[0]}')\n",
        "        break\n",
        "\n",
        "    model = resnet34(pretrained=True)\n",
        "    for param in model.parameters():\n",
        "        param.requires_grad=False\n",
        "\n",
        "    criterion = torch.nn.CrossEntropyLoss()\n",
        "    optimizer = torch.optim.Adam(model.parameters(), lr=0.0005)\n",
        "    \n",
        "    if torch.cuda.is_available():\n",
        "        device = \"cuda:0\"\n",
        "    else:\n",
        "        device = \"cpu\"\n",
        "\n",
        "    num_ftrs = model.fc.in_features\n",
        "    model.fc = torch.nn.Linear(num_ftrs, 4)\n",
        "    model.to(device)\n",
        "\n",
        "    for epoch in tqdm(range(25)):\n",
        "        print('epoch', epoch)\n",
        "        for (images, labels) in (train_dataloder): \n",
        "            phase='train'\n",
        "            images=images.to(device)\n",
        "            labels=labels.to(device)\n",
        "            optimizer.zero_grad()\n",
        "            with torch.set_grad_enabled(phase=='train'):\n",
        "                outputs = model(images)\n",
        "                _,preds=torch.max(outputs,1)\n",
        "                loss=criterion(outputs,labels)\n",
        "                loss.backward()\n",
        "                optimizer.step()\n",
        "\n",
        "    run_test_on_epoch(model, epoch, test_dataloder) \n",
        "\n"
      ]
    }
  ]
}